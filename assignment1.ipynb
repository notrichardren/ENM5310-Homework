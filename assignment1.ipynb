{
  "cells": [
    {
      "cell_type": "markdown",
      "metadata": {
        "id": "I-lFaD64Rn6a"
      },
      "source": [
        "# Problem 1\n"
      ]
    },
    {
      "cell_type": "markdown",
      "source": [
        "\n",
        "## Subproblem 1\n",
        "\n",
        "$q_n = q_{n-1}"
      ],
      "metadata": {
        "id": "T3KPt7V4TH29"
      }
    },
    {
      "cell_type": "markdown",
      "metadata": {
        "id": "-rl1r3zsRn6c"
      },
      "source": [
        "## Subproblem 2"
      ]
    },
    {
      "cell_type": "markdown",
      "metadata": {
        "id": "RxvFeCGiRn6c"
      },
      "source": [
        "# Problem 2\n",
        "\n",
        "The basic axioms of probability are as follows:\n",
        "1. $P(A) \\geq 0$, for all $A \\subset \\Omega$\n",
        "1. $P(\\Omega) = 1$\n",
        "1. If $A \\cap B = \\emptyset$ then $P(A\\cup B) = P(A) + P(B)$\n",
        "\n",
        "**Proposition 1**\n",
        "\n",
        "Show that for any event A, $\\mathbb{P}(A)=\\sum_{i=1}^n \\mathbb{P}\\left(A \\cap S_i\\right)$\n",
        "\n",
        "Let there be an event $A \\subset \\Omega$. If we break $\\Omega$ into disjoint $S_1, S_2, ... S_n$, we find that $P(\\Omega) = P(S_1 \\cup S_2 \\cup ... \\cup S_n) = P(S_1) + P(S_2) + ... + P(S_n)$ as per the third axiom of probability.\n",
        "\n",
        "Because A is a subset of $\\Omega$, and therefore, all of A should be contained with the disjoint subsets $S_i$, we then find that $P(A \\cap S_1) + P(A \\cap S_2) + ... + P(A \\cap S_n) = P(A \\cap \\Omega)$. We also know that $(A \\cap \\Omega) = P(A)$ because $P(\\Omega) = 1$ per the second axiom of probability.\n",
        "\n",
        "**Axiom 4**\n",
        "\n",
        "I also here prove an additional axiom 4, where $P(A \\cup B) = P(A) + P(B) - P(A \\cap B)$ where A and B are events. This will be used later on.\n",
        "\n",
        "We start with the definition of A union B, where $A \\cup B = A \\cup (A^c \\cap B)$. We find that $P(A \\cup B) = P(A) + P(A^c \\cap B)$ using the third axiom because the two events are disjoint. Let this be result 1.\n",
        "\n",
        "We also start with a second definition of B, where $B = (A \\cap B) \\cup (A^c \\cap B)$ using the first proposition because $A^c$ and $A$ partition the sample space $\\Omega$. Using the third axiom of probability, we know that $P(B) = P(A \\cap B) + P(A^c \\cap B)$ and can rearrange this such that $P(A^c \\cap B) = P(B) - P(A \\cap B)$. Let this be result 2.\n",
        "\n",
        "We take the two results and find that:\n",
        "\n",
        "Result 1: $P(A \\cup B) = P(A) + P(A^c \\cap B)$\n",
        "\n",
        "Result 2: $P(A^c \\cap B) = P(B) - P(A \\cap B)$\n",
        "\n",
        "Final equation: $P(A \\cup B) = P(A) + P(B) - P(A \\cap B)$\n",
        "\n",
        "**Proposition 2**\n",
        "\n",
        "Show that for events A, B, and C, $P(A) = \\mathbb{P}(A \\cap B)+\\mathbb{P}(A \\cap C)+\\mathbb{P}\\left(A \\cap B^c \\cap C^c\\right)-\\mathbb{P}(A \\cap B \\cap C)$.\n",
        "\n",
        "We start with the probability of A. We can partition the sample space $\\Omega$ into two disjoint subspaces: $B \\cup C$ and $(B \\cup C)^c = (B^c \\cap C^c)$.\n",
        "\n",
        "We can label $S_1 = B \\cup C$ and $S_2 = B^c \\cap C^c$. We then find that, using the proposition 1: \n",
        "\n",
        "$P(A) = P(A \\cap (B \\cup C)) + P(A \\cap (B^c \\cap C^c))$.\n",
        "\n",
        "Furthermore, $P(B \\cup C) = P(B) + P(C) - P(B \\cap C)$ per axiom 4. Therefore, we can then expand the $P(A \\cap (B \\cup C))$ term as follows: $P(A \\cap (B \\cup C)) = P(A \\cap B) + P(A \\cap C) - P(A \\cap B \\cap C)$.\n",
        "\n",
        "This gives us our final answer, where $P(A) = \\mathbb{P}(A \\cap B)+\\mathbb{P}(A \\cap C)+\\mathbb{P}\\left(A \\cap B^c \\cap C^c\\right)-\\mathbb{P}(A \\cap B \\cap C)$.\n",
        "\n",
        "**Proposition 3**\n",
        "\n",
        "We know that $P(A \\cap B) = P(A) + P(B) - P(A \\cap B)$ per axiom 4. We also know that $0 \\leq P(A \\cap B) \\leq 1$ per the first and second axiomx of probability.\n",
        "\n",
        "Therefore, we solve for the range of a possible $P(A \\cap B)$ being between $P(A \\cap B) = P(A) + P(B)$ or $P(A \\cap B) = P(A) + P(B) - 1$.\n",
        "\n",
        "Therefore, $P(A \\cap B) \\geq P(A) + P(B) - 1$ must be correct as it fits within this range.\n",
        "\n",
        "**Proposition 4**\n",
        "\n"
      ]
    },
    {
      "cell_type": "markdown",
      "source": [
        "# Problem 3"
      ],
      "metadata": {
        "id": "7om5ilugTKXg"
      }
    },
    {
      "cell_type": "markdown",
      "source": [
        "## Subproblem 1"
      ],
      "metadata": {
        "id": "ux45iP6dTMDM"
      }
    },
    {
      "cell_type": "markdown",
      "source": [
        "## Subproblem 2"
      ],
      "metadata": {
        "id": "eQ_IfAZ-TNak"
      }
    },
    {
      "cell_type": "markdown",
      "metadata": {
        "id": "oIdBy7xARn6c"
      },
      "source": [
        "# Problem 4\n",
        "\n",
        "We write normally distributed x as $x = N(\\mu, \\Sigma)$. \n",
        "\n",
        "We aim to prove that $Ax + b = N(A\\mu+b, A^2 * \\Sigma)$ \n",
        "\n"
      ]
    },
    {
      "cell_type": "markdown",
      "metadata": {
        "id": "xW8y3fF7Rn6c"
      },
      "source": [
        "# Problem 5"
      ]
    },
    {
      "cell_type": "code",
      "execution_count": null,
      "metadata": {
        "id": "qLdaiZeiRn6c"
      },
      "outputs": [],
      "source": [
        "import jax.numpy as jnp\n",
        "import numpy as np\n",
        "import jax"
      ]
    },
    {
      "cell_type": "code",
      "source": [
        "def g1(x : jnp.array):\n",
        "  return (x**3) - 6*(x**2) + 12*(x) - 8\n",
        "\n",
        "def g1_inv(z : jnp.array):\n",
        "  return z.cbrt() + 2\n",
        "\n",
        "def g2(x : jnp.array):\n",
        "  return x + 1\n",
        "\n",
        "def g2_inv(z : jnp.array):\n",
        "  return z - 1"
      ],
      "metadata": {
        "id": "sgg6maD2Cfmv"
      },
      "execution_count": null,
      "outputs": []
    },
    {
      "cell_type": "code",
      "execution_count": null,
      "metadata": {
        "id": "waU7sIjxRn6d"
      },
      "outputs": [],
      "source": [
        "from jax import random\n",
        "\n",
        "key = random.PRNGKey(1)\n",
        "z_pairs = random.normal(key, shape = (5000, 2))"
      ]
    },
    {
      "cell_type": "markdown",
      "metadata": {
        "id": "IwHltiTIRn6d"
      },
      "source": []
    }
  ],
  "metadata": {
    "kernelspec": {
      "display_name": "venv",
      "language": "python",
      "name": "python3"
    },
    "language_info": {
      "codemirror_mode": {
        "name": "ipython",
        "version": 3
      },
      "file_extension": ".py",
      "mimetype": "text/x-python",
      "name": "python",
      "nbconvert_exporter": "python",
      "pygments_lexer": "ipython3",
      "version": "3.10.9"
    },
    "orig_nbformat": 4,
    "vscode": {
      "interpreter": {
        "hash": "e4a234a4a0a50314c29c5148f434542132827764842aa165d432936fa86ad9a1"
      }
    },
    "colab": {
      "provenance": []
    }
  },
  "nbformat": 4,
  "nbformat_minor": 0
}
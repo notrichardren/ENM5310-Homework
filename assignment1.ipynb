{
 "cells": [
  {
   "attachments": {},
   "cell_type": "markdown",
   "metadata": {},
   "source": [
    "# Problem 1\n",
    "\n",
    "## Subproblem 1\n",
    "\n",
    "$q_n = q_{n-1}"
   ]
  },
  {
   "cell_type": "markdown",
   "metadata": {},
   "source": []
  },
  {
   "attachments": {},
   "cell_type": "markdown",
   "metadata": {},
   "source": [
    "# Problem 2\n",
    "\n",
    "The basic axioms of probability are as follows:\n",
    "1. $P(A) \\geq 0$, for all $A \\subset \\Omega$\n",
    "1. $P(\\Omega) = 1$\n",
    "1. If $A \\cap B = \\emptyset$ then $P(A\\cup B) = P(A) + P(B)$\n",
    "\n",
    "**Proposition 1**\n",
    "\n",
    "Show that for any event A, $\\mathbb{P}(A)=\\sum_{i=1}^n \\mathbb{P}\\left(A \\cap S_i\\right)$\n",
    "\n",
    "Let there be an event $A \\subset \\Omega$. If we break $\\Omega$ into disjoint $S_1, S_2, ... S_n$, we find that $P(\\Omega) = P(S_1 \\cup S_2 \\cup ... \\cup S_n) = P(S_1) + P(S_2) + ... + P(S_n)$ as per the third axiom of probability.\n",
    "\n",
    "Because A is a subset of $\\Omega$, and therefore, all of A should be contained with the disjoint subsets $S_i$, we then find that $P(A \\cap S_1) + P(A \\cap S_2) + ... + P(A \\cap S_n) = P(A \\cap \\Omega)$. We also know that $(A \\cap \\Omega) = P(A)$ because $P(\\Omega) = 1$ per the second axiom of probability.\n",
    "\n",
    "**Proposition 2**\n",
    "\n",
    "Show that for events A, B, and C, $\\mathbb{P}(A \\cap B)+\\mathbb{P}(A \\cap C)+\\mathbb{P}\\left(A \\cap B^c \\cap C^c\\right)-\\mathbb{P}(A \\cap B \\cap C)$."
   ]
  },
  {
   "attachments": {},
   "cell_type": "markdown",
   "metadata": {},
   "source": [
    "# Problem 4\n",
    "\n",
    "We write normally distributed x as $x = N(\\mu, \\Sigma)$. \n",
    "\n",
    "We aim to prove that $Ax + b = N(A\\mu+b, A^2 * \\Sigma)$ \n",
    "\n"
   ]
  },
  {
   "cell_type": "markdown",
   "metadata": {},
   "source": []
  }
 ],
 "metadata": {
  "kernelspec": {
   "display_name": "Python 3",
   "language": "python",
   "name": "python3"
  },
  "language_info": {
   "codemirror_mode": {
    "name": "ipython",
    "version": 3
   },
   "file_extension": ".py",
   "mimetype": "text/x-python",
   "name": "python",
   "nbconvert_exporter": "python",
   "pygments_lexer": "ipython3",
   "version": "3.8.9 (default, Apr 13 2022, 08:48:06) \n[Clang 13.1.6 (clang-1316.0.21.2.5)]"
  },
  "orig_nbformat": 4,
  "vscode": {
   "interpreter": {
    "hash": "31f2aee4e71d21fbe5cf8b01ff0e069b9275f58929596ceb00d14d90e3e16cd6"
   }
  }
 },
 "nbformat": 4,
 "nbformat_minor": 2
}

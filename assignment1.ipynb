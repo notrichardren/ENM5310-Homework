{
  "cells": [
    {
      "cell_type": "markdown",
      "metadata": {
        "id": "I-lFaD64Rn6a"
      },
      "source": [
        "# Problem 1\n"
      ]
    },
    {
      "cell_type": "markdown",
      "source": [
        "\n",
        "## Subproblem 1\n",
        "\n",
        "$q_n = q_{n-1}"
      ],
      "metadata": {
        "id": "T3KPt7V4TH29"
      }
    },
    {
      "cell_type": "markdown",
      "metadata": {
        "id": "-rl1r3zsRn6c"
      },
      "source": [
        "## Subproblem 2"
      ]
    },
    {
      "cell_type": "markdown",
      "metadata": {
        "id": "RxvFeCGiRn6c"
      },
      "source": [
        "# Problem 2\n",
        "\n",
        "The basic axioms of probability are as follows:\n",
        "1. $P(A) \\geq 0$, for all $A \\subset \\Omega$\n",
        "1. $P(\\Omega) = 1$\n",
        "1. If $A \\cap B = \\emptyset$ then $P(A\\cup B) = P(A) + P(B)$\n",
        "\n",
        "**Proposition 1**\n",
        "\n",
        "Show that for any event A, $\\mathbb{P}(A)=\\sum_{i=1}^n \\mathbb{P}\\left(A \\cap S_i\\right)$\n",
        "\n",
        "Let there be an event $A \\subset \\Omega$. If we break $\\Omega$ into disjoint $S_1, S_2, ... S_n$, we find that $P(\\Omega) = P(S_1 \\cup S_2 \\cup ... \\cup S_n) = P(S_1) + P(S_2) + ... + P(S_n)$ as per the third axiom of probability.\n",
        "\n",
        "Because A is a subset of $\\Omega$, and therefore, all of A should be contained with the disjoint subsets $S_i$, we then find that $P(A \\cap S_1) + P(A \\cap S_2) + ... + P(A \\cap S_n) = P(A \\cap \\Omega)$. We also know that $(A \\cap \\Omega) = P(A)$ because $P(\\Omega) = 1$ per the second axiom of probability.\n",
        "\n",
        "**Axiom 4**\n",
        "\n",
        "I also here prove an additional axiom 4, where $P(A \\cup B) = P(A) + P(B) - P(A \\cap B)$ where A and B are events. This will be used later on.\n",
        "\n",
        "We start with the definition of A union B, where $A \\cup B = A \\cup (A^c \\cap B)$. We find that $P(A \\cup B) = P(A) + P(A^c \\cap B)$ using the third axiom because the two events are disjoint. Let this be result 1.\n",
        "\n",
        "We also start with a second definition of B, where $B = (A \\cap B) \\cup (A^c \\cap B)$ using the first proposition because $A^c$ and $A$ partition the sample space $\\Omega$. Using the third axiom of probability, we know that $P(B) = P(A \\cap B) + P(A^c \\cap B)$ and can rearrange this such that $P(A^c \\cap B) = P(B) - P(A \\cap B)$. Let this be result 2.\n",
        "\n",
        "We take the two results and find that:\n",
        "\n",
        "Result 1: $P(A \\cup B) = P(A) + P(A^c \\cap B)$\n",
        "\n",
        "Result 2: $P(A^c \\cap B) = P(B) - P(A \\cap B)$\n",
        "\n",
        "Final equation: $P(A \\cup B) = P(A) + P(B) - P(A \\cap B)$\n",
        "\n",
        "**Proposition 2**\n",
        "\n",
        "Show that for events A, B, and C, $P(A) = \\mathbb{P}(A \\cap B)+\\mathbb{P}(A \\cap C)+\\mathbb{P}\\left(A \\cap B^c \\cap C^c\\right)-\\mathbb{P}(A \\cap B \\cap C)$.\n",
        "\n",
        "We start with the probability of A. We can partition the sample space $\\Omega$ into two disjoint subspaces: $B \\cup C$ and $(B \\cup C)^c = (B^c \\cap C^c)$.\n",
        "\n",
        "We can label $S_1 = B \\cup C$ and $S_2 = B^c \\cap C^c$. We then find that, using the proposition 1: \n",
        "\n",
        "$P(A) = P(A \\cap (B \\cup C)) + P(A \\cap (B^c \\cap C^c))$.\n",
        "\n",
        "Furthermore, $P(B \\cup C) = P(B) + P(C) - P(B \\cap C)$ per axiom 4. Therefore, we can then expand the $P(A \\cap (B \\cup C))$ term as follows: $P(A \\cap (B \\cup C)) = P(A \\cap B) + P(A \\cap C) - P(A \\cap B \\cap C)$.\n",
        "\n",
        "This gives us our final answer, where $P(A) = \\mathbb{P}(A \\cap B)+\\mathbb{P}(A \\cap C)+\\mathbb{P}\\left(A \\cap B^c \\cap C^c\\right)-\\mathbb{P}(A \\cap B \\cap C)$.\n",
        "\n",
        "**Proposition 3**\n",
        "\n",
        "We know that $P(A \\cap B) = P(A) + P(B) - P(A \\cap B)$ per axiom 4. We also know that $0 \\leq P(A \\cap B) \\leq 1$ per the first and second axiomx of probability.\n",
        "\n",
        "Therefore, we solve for the range of a possible $P(A \\cap B)$ being between $P(A \\cap B) = P(A) + P(B)$ or $P(A \\cap B) = P(A) + P(B) - 1$.\n",
        "\n",
        "Therefore, $P(A \\cap B) \\geq P(A) + P(B) - 1$ must be correct as it fits within this range.\n",
        "\n",
        "**Proposition 4**\n",
        "\n"
      ]
    },
    {
      "cell_type": "markdown",
      "source": [
        "# Problem 3"
      ],
      "metadata": {
        "id": "7om5ilugTKXg"
      }
    },
    {
      "cell_type": "markdown",
      "source": [
        "## Subproblem 1"
      ],
      "metadata": {
        "id": "ux45iP6dTMDM"
      }
    },
    {
      "cell_type": "markdown",
      "source": [
        "## Subproblem 2"
      ],
      "metadata": {
        "id": "eQ_IfAZ-TNak"
      }
    },
    {
      "cell_type": "markdown",
      "metadata": {
        "id": "oIdBy7xARn6c"
      },
      "source": [
        "# Problem 4\n",
        "\n",
        "We write normally distributed x as $x = N(\\mu, \\Sigma)$. \n",
        "\n",
        "We aim to prove that $Ax + b = N(A\\mu+b, A^2 * \\Sigma)$ \n",
        "\n"
      ]
    },
    {
      "cell_type": "markdown",
      "metadata": {
        "id": "xW8y3fF7Rn6c"
      },
      "source": [
        "# Problem 5"
      ]
    },
    {
      "cell_type": "code",
      "source": [
        "pip install einops"
      ],
      "metadata": {
        "colab": {
          "base_uri": "https://localhost:8080/"
        },
        "id": "fKEEJm9dDsbD",
        "outputId": "487e0851-3473-4d5b-f8d9-35b8f17ccee2"
      },
      "execution_count": 72,
      "outputs": [
        {
          "output_type": "stream",
          "name": "stdout",
          "text": [
            "Looking in indexes: https://pypi.org/simple, https://us-python.pkg.dev/colab-wheels/public/simple/\n",
            "Requirement already satisfied: einops in /usr/local/lib/python3.8/dist-packages (0.6.0)\n"
          ]
        }
      ]
    },
    {
      "cell_type": "code",
      "execution_count": 73,
      "metadata": {
        "id": "qLdaiZeiRn6c"
      },
      "outputs": [],
      "source": [
        "import jax.numpy as np\n",
        "from jax import grad, jacfwd, jit, random, vmap\n",
        "from jax.scipy.stats import multivariate_normal\n",
        "from jax.tree_util import tree_map\n",
        "\n",
        "from IPython.display import clear_output\n",
        "import matplotlib.pyplot as plt\n",
        "from einops import rearrange, reduce, repeat"
      ]
    },
    {
      "cell_type": "code",
      "source": [
        "# assuming input shape of (batch, 2)\n",
        "\n",
        "# coeff3 = 1, coeff2 = 6, coeff1 = 12, coeff0 = 8\n",
        "\n",
        "def g_fwd(x : np.array, params : np.array): # input size: (2)\n",
        "  z1 = params[0]*(x[0]**3) + params[1]*(x[1]**2) + params[2]*(x[2]) + params[3]*8\n",
        "  z2 = params[4]*x[1] + params[5]\n",
        "  return np.column_stack((z1, z2))\n",
        "\n",
        "def g_inv(z : np.array): \n",
        "  x1 = np.cbrt(z[0]) + 2\n",
        "  x2 = z[1] - 1\n",
        "  return np.column_stack((x1, x2))\n",
        "\n",
        "g_inv_vec = vmap(g_inv, in_axes = (0, None))\n",
        "g_fwd_vec = vmap(g_fwd, in_axes = (0, None))"
      ],
      "metadata": {
        "id": "d5qAo95dJ5rW"
      },
      "execution_count": 101,
      "outputs": []
    },
    {
      "cell_type": "code",
      "execution_count": 105,
      "metadata": {
        "id": "waU7sIjxRn6d",
        "colab": {
          "base_uri": "https://localhost:8080/",
          "height": 555
        },
        "outputId": "9ef26e5c-182a-4fb0-dce1-f8e76008c2d6"
      },
      "outputs": [
        {
          "output_type": "stream",
          "name": "stdout",
          "text": [
            "(5000, 2)\n"
          ]
        },
        {
          "output_type": "error",
          "ename": "ValueError",
          "evalue": "ignored",
          "traceback": [
            "\u001b[0;31m---------------------------------------------------------------------------\u001b[0m",
            "\u001b[0;31mUnfilteredStackTrace\u001b[0m                      Traceback (most recent call last)",
            "\u001b[0;32m<ipython-input-105-91c4263ddf34>\u001b[0m in \u001b[0;36m<module>\u001b[0;34m\u001b[0m\n\u001b[1;32m      4\u001b[0m \u001b[0mprint\u001b[0m\u001b[0;34m(\u001b[0m\u001b[0mz_pairs\u001b[0m\u001b[0;34m.\u001b[0m\u001b[0mshape\u001b[0m\u001b[0;34m)\u001b[0m\u001b[0;34m\u001b[0m\u001b[0;34m\u001b[0m\u001b[0m\n\u001b[0;32m----> 5\u001b[0;31m \u001b[0mx_pairs\u001b[0m \u001b[0;34m=\u001b[0m \u001b[0mg_inv_vec\u001b[0m\u001b[0;34m(\u001b[0m\u001b[0mz_pairs\u001b[0m\u001b[0;34m)\u001b[0m\u001b[0;34m\u001b[0m\u001b[0;34m\u001b[0m\u001b[0m\n\u001b[0m\u001b[1;32m      6\u001b[0m \u001b[0mx_pairs\u001b[0m\u001b[0;34m.\u001b[0m\u001b[0mshape\u001b[0m\u001b[0;34m\u001b[0m\u001b[0;34m\u001b[0m\u001b[0m\n",
            "\u001b[0;32m/usr/local/lib/python3.8/dist-packages/jax/_src/traceback_util.py\u001b[0m in \u001b[0;36mreraise_with_filtered_traceback\u001b[0;34m(*args, **kwargs)\u001b[0m\n\u001b[1;32m    161\u001b[0m     \u001b[0;32mtry\u001b[0m\u001b[0;34m:\u001b[0m\u001b[0;34m\u001b[0m\u001b[0;34m\u001b[0m\u001b[0m\n\u001b[0;32m--> 162\u001b[0;31m       \u001b[0;32mreturn\u001b[0m \u001b[0mfun\u001b[0m\u001b[0;34m(\u001b[0m\u001b[0;34m*\u001b[0m\u001b[0margs\u001b[0m\u001b[0;34m,\u001b[0m \u001b[0;34m**\u001b[0m\u001b[0mkwargs\u001b[0m\u001b[0;34m)\u001b[0m\u001b[0;34m\u001b[0m\u001b[0;34m\u001b[0m\u001b[0m\n\u001b[0m\u001b[1;32m    163\u001b[0m     \u001b[0;32mexcept\u001b[0m \u001b[0mException\u001b[0m \u001b[0;32mas\u001b[0m \u001b[0me\u001b[0m\u001b[0;34m:\u001b[0m\u001b[0;34m\u001b[0m\u001b[0;34m\u001b[0m\u001b[0m\n",
            "\u001b[0;32m/usr/local/lib/python3.8/dist-packages/jax/_src/api.py\u001b[0m in \u001b[0;36mvmap_f\u001b[0;34m(*args, **kwargs)\u001b[0m\n\u001b[1;32m   1678\u001b[0m     \u001b[0mflat_fun\u001b[0m\u001b[0;34m,\u001b[0m \u001b[0mout_tree\u001b[0m \u001b[0;34m=\u001b[0m \u001b[0mbatching\u001b[0m\u001b[0;34m.\u001b[0m\u001b[0mflatten_fun_for_vmap\u001b[0m\u001b[0;34m(\u001b[0m\u001b[0mf\u001b[0m\u001b[0;34m,\u001b[0m \u001b[0min_tree\u001b[0m\u001b[0;34m)\u001b[0m\u001b[0;34m\u001b[0m\u001b[0;34m\u001b[0m\u001b[0m\n\u001b[0;32m-> 1679\u001b[0;31m     \u001b[0min_axes_flat\u001b[0m \u001b[0;34m=\u001b[0m \u001b[0mflatten_axes\u001b[0m\u001b[0;34m(\u001b[0m\u001b[0;34m\"vmap in_axes\"\u001b[0m\u001b[0;34m,\u001b[0m \u001b[0min_tree\u001b[0m\u001b[0;34m,\u001b[0m \u001b[0;34m(\u001b[0m\u001b[0min_axes\u001b[0m\u001b[0;34m,\u001b[0m \u001b[0;36m0\u001b[0m\u001b[0;34m)\u001b[0m\u001b[0;34m,\u001b[0m \u001b[0mkws\u001b[0m\u001b[0;34m=\u001b[0m\u001b[0;32mTrue\u001b[0m\u001b[0;34m)\u001b[0m\u001b[0;34m\u001b[0m\u001b[0;34m\u001b[0m\u001b[0m\n\u001b[0m\u001b[1;32m   1680\u001b[0m     axis_size_ = (axis_size if axis_size is not None else\n",
            "\u001b[0;32m/usr/local/lib/python3.8/dist-packages/jax/_src/api_util.py\u001b[0m in \u001b[0;36mflatten_axes\u001b[0;34m(name, treedef, axis_tree, kws, tupled_args)\u001b[0m\n\u001b[1;32m    417\u001b[0m                    f\"a singleton tuple.\")\n\u001b[0;32m--> 418\u001b[0;31m     raise ValueError(f\"{name} specification must be a tree prefix of the \"\n\u001b[0m\u001b[1;32m    419\u001b[0m                      \u001b[0;34mf\"corresponding value, got specification {axis_tree} \"\u001b[0m\u001b[0;34m\u001b[0m\u001b[0;34m\u001b[0m\u001b[0m\n",
            "\u001b[0;31mUnfilteredStackTrace\u001b[0m: ValueError: vmap in_axes specification must be a tree prefix of the corresponding value, got specification (0, None) for value tree PyTreeDef((*,)).\n\nThe stack trace below excludes JAX-internal frames.\nThe preceding is the original exception that occurred, unmodified.\n\n--------------------",
            "\nThe above exception was the direct cause of the following exception:\n",
            "\u001b[0;31mValueError\u001b[0m                                Traceback (most recent call last)",
            "\u001b[0;32m<ipython-input-105-91c4263ddf34>\u001b[0m in \u001b[0;36m<module>\u001b[0;34m\u001b[0m\n\u001b[1;32m      3\u001b[0m \u001b[0;34m\u001b[0m\u001b[0m\n\u001b[1;32m      4\u001b[0m \u001b[0mprint\u001b[0m\u001b[0;34m(\u001b[0m\u001b[0mz_pairs\u001b[0m\u001b[0;34m.\u001b[0m\u001b[0mshape\u001b[0m\u001b[0;34m)\u001b[0m\u001b[0;34m\u001b[0m\u001b[0;34m\u001b[0m\u001b[0m\n\u001b[0;32m----> 5\u001b[0;31m \u001b[0mx_pairs\u001b[0m \u001b[0;34m=\u001b[0m \u001b[0mg_inv_vec\u001b[0m\u001b[0;34m(\u001b[0m\u001b[0mz_pairs\u001b[0m\u001b[0;34m)\u001b[0m\u001b[0;34m\u001b[0m\u001b[0;34m\u001b[0m\u001b[0m\n\u001b[0m\u001b[1;32m      6\u001b[0m \u001b[0mx_pairs\u001b[0m\u001b[0;34m.\u001b[0m\u001b[0mshape\u001b[0m\u001b[0;34m\u001b[0m\u001b[0;34m\u001b[0m\u001b[0m\n",
            "\u001b[0;31mValueError\u001b[0m: vmap in_axes specification must be a tree prefix of the corresponding value, got specification (0, None) for value tree PyTreeDef((*,))."
          ]
        }
      ],
      "source": [
        "key = random.PRNGKey(1)\n",
        "z_pairs = random.normal(key, shape = (5000, 2))\n",
        "\n",
        "print(z_pairs.shape)\n",
        "x_pairs = g_inv_vec(z_pairs)\n",
        "x_pairs.shape"
      ]
    },
    {
      "cell_type": "code",
      "source": [
        "# Plotting for sanity check!\n",
        "\n",
        "fig, (ax1, ax2) = plt.subplots(1, 2, figsize=(10, 5))\n",
        "\n",
        "ax1.hist2d(z_pairs[:,0], z_pairs[:,1], bins=100, range=[(-5,5), (-5,5)], density=True)\n",
        "ax1.set_xlim(-5, 5)\n",
        "ax1.set_ylim(-5, 5)\n",
        "ax1.set_title('(z1, z2) ~ N(0, I)')\n",
        "\n",
        "ax2.hist2d(x_pairs[:,0], x_pairs[:,1], bins=100, range=[(-5,5), (-5,5)], density=True)\n",
        "ax2.set_xlim(-5, 5)\n",
        "ax2.set_ylim(-5, 5)\n",
        "ax2.set_title('(x1, x2) = g^{-1}(z1, z2)')\n",
        "\n",
        "plt.show()"
      ],
      "metadata": {
        "colab": {
          "base_uri": "https://localhost:8080/",
          "height": 336
        },
        "id": "U9Rh2CS9FLXn",
        "outputId": "d6d023cd-4590-4997-a5f1-b5e1c271b03f"
      },
      "execution_count": 97,
      "outputs": [
        {
          "output_type": "display_data",
          "data": {
            "text/plain": [
              "<Figure size 720x360 with 2 Axes>"
            ],
            "image/png": "[encoded data removed]"
          },
          "metadata": {
            "needs_background": "light"
          }
        }
      ]
    },
    {
      "cell_type": "markdown",
      "source": [
        "We use the following equation to calculate the log-likelihood of (x1, x2) observations:\n",
        "\n",
        "$\\log p(\\mathbf{x})=\\log p(g(\\mathbf{x}))+\\log \\left|\\operatorname{det} J_{g(\\mathbf{x})}\\right|$"
      ],
      "metadata": {
        "id": "4oSjcTzNHPgd"
      }
    },
    {
      "cell_type": "code",
      "source": [
        "# Calculate log-likelihood of (x1, x2) observations\n",
        "\n",
        "mu_z = np.zeros(2)\n",
        "cov_z = np.eye(2)\n",
        "\n",
        "# VMap definitions\n",
        "J = jacfwd(g_fwd)\n",
        "J_vec = vmap(J, (0, None), 0)\n",
        "det_vec = vmap(np.linalg.det)\n",
        "\n",
        "# \\log p(x) from the change of variabled formula\n",
        "print(\"log p(x) =\", multivariate_normal.logpdf(g_fwd_vec(x_pairs), \n",
        "                                               mean=np.zeros(2), \n",
        "                                               cov=np.eye(2)) + \n",
        "                    np.log(np.abs(det_vec(J_vec(x_pairs)))))"
      ],
      "metadata": {
        "colab": {
          "base_uri": "https://localhost:8080/",
          "height": 555
        },
        "id": "2zIVC601E64D",
        "outputId": "7b07afe2-c610-410c-ef17-781158283585"
      },
      "execution_count": 98,
      "outputs": [
        {
          "output_type": "error",
          "ename": "ValueError",
          "evalue": "ignored",
          "traceback": [
            "\u001b[0;31m---------------------------------------------------------------------------\u001b[0m",
            "\u001b[0;31mUnfilteredStackTrace\u001b[0m                      Traceback (most recent call last)",
            "\u001b[0;32m<ipython-input-98-3e6630a08c40>\u001b[0m in \u001b[0;36m<module>\u001b[0;34m\u001b[0m\n\u001b[1;32m     11\u001b[0m \u001b[0;31m# \\log p(x) from the change of variabled formula\u001b[0m\u001b[0;34m\u001b[0m\u001b[0;34m\u001b[0m\u001b[0;34m\u001b[0m\u001b[0m\n\u001b[0;32m---> 12\u001b[0;31m print(\"log p(x) =\", multivariate_normal.logpdf(g_fwd_vec(x_pairs), \n\u001b[0m\u001b[1;32m     13\u001b[0m                                                \u001b[0mmean\u001b[0m\u001b[0;34m=\u001b[0m\u001b[0mnp\u001b[0m\u001b[0;34m.\u001b[0m\u001b[0mzeros\u001b[0m\u001b[0;34m(\u001b[0m\u001b[0;36m2\u001b[0m\u001b[0;34m)\u001b[0m\u001b[0;34m,\u001b[0m\u001b[0;34m\u001b[0m\u001b[0;34m\u001b[0m\u001b[0m\n",
            "\u001b[0;32m/usr/local/lib/python3.8/dist-packages/jax/_src/traceback_util.py\u001b[0m in \u001b[0;36mreraise_with_filtered_traceback\u001b[0;34m(*args, **kwargs)\u001b[0m\n\u001b[1;32m    161\u001b[0m     \u001b[0;32mtry\u001b[0m\u001b[0;34m:\u001b[0m\u001b[0;34m\u001b[0m\u001b[0;34m\u001b[0m\u001b[0m\n\u001b[0;32m--> 162\u001b[0;31m       \u001b[0;32mreturn\u001b[0m \u001b[0mfun\u001b[0m\u001b[0;34m(\u001b[0m\u001b[0;34m*\u001b[0m\u001b[0margs\u001b[0m\u001b[0;34m,\u001b[0m \u001b[0;34m**\u001b[0m\u001b[0mkwargs\u001b[0m\u001b[0;34m)\u001b[0m\u001b[0;34m\u001b[0m\u001b[0;34m\u001b[0m\u001b[0m\n\u001b[0m\u001b[1;32m    163\u001b[0m     \u001b[0;32mexcept\u001b[0m \u001b[0mException\u001b[0m \u001b[0;32mas\u001b[0m \u001b[0me\u001b[0m\u001b[0;34m:\u001b[0m\u001b[0;34m\u001b[0m\u001b[0;34m\u001b[0m\u001b[0m\n",
            "\u001b[0;32m/usr/local/lib/python3.8/dist-packages/jax/_src/api.py\u001b[0m in \u001b[0;36mvmap_f\u001b[0;34m(*args, **kwargs)\u001b[0m\n\u001b[1;32m   1678\u001b[0m     \u001b[0mflat_fun\u001b[0m\u001b[0;34m,\u001b[0m \u001b[0mout_tree\u001b[0m \u001b[0;34m=\u001b[0m \u001b[0mbatching\u001b[0m\u001b[0;34m.\u001b[0m\u001b[0mflatten_fun_for_vmap\u001b[0m\u001b[0;34m(\u001b[0m\u001b[0mf\u001b[0m\u001b[0;34m,\u001b[0m \u001b[0min_tree\u001b[0m\u001b[0;34m)\u001b[0m\u001b[0;34m\u001b[0m\u001b[0;34m\u001b[0m\u001b[0m\n\u001b[0;32m-> 1679\u001b[0;31m     \u001b[0min_axes_flat\u001b[0m \u001b[0;34m=\u001b[0m \u001b[0mflatten_axes\u001b[0m\u001b[0;34m(\u001b[0m\u001b[0;34m\"vmap in_axes\"\u001b[0m\u001b[0;34m,\u001b[0m \u001b[0min_tree\u001b[0m\u001b[0;34m,\u001b[0m \u001b[0;34m(\u001b[0m\u001b[0min_axes\u001b[0m\u001b[0;34m,\u001b[0m \u001b[0;36m0\u001b[0m\u001b[0;34m)\u001b[0m\u001b[0;34m,\u001b[0m \u001b[0mkws\u001b[0m\u001b[0;34m=\u001b[0m\u001b[0;32mTrue\u001b[0m\u001b[0;34m)\u001b[0m\u001b[0;34m\u001b[0m\u001b[0;34m\u001b[0m\u001b[0m\n\u001b[0m\u001b[1;32m   1680\u001b[0m     axis_size_ = (axis_size if axis_size is not None else\n",
            "\u001b[0;32m/usr/local/lib/python3.8/dist-packages/jax/_src/api_util.py\u001b[0m in \u001b[0;36mflatten_axes\u001b[0;34m(name, treedef, axis_tree, kws, tupled_args)\u001b[0m\n\u001b[1;32m    417\u001b[0m                    f\"a singleton tuple.\")\n\u001b[0;32m--> 418\u001b[0;31m     raise ValueError(f\"{name} specification must be a tree prefix of the \"\n\u001b[0m\u001b[1;32m    419\u001b[0m                      \u001b[0;34mf\"corresponding value, got specification {axis_tree} \"\u001b[0m\u001b[0;34m\u001b[0m\u001b[0;34m\u001b[0m\u001b[0m\n",
            "\u001b[0;31mUnfilteredStackTrace\u001b[0m: ValueError: vmap in_axes specification must be a tree prefix of the corresponding value, got specification (0, None) for value tree PyTreeDef((*,)).\n\nThe stack trace below excludes JAX-internal frames.\nThe preceding is the original exception that occurred, unmodified.\n\n--------------------",
            "\nThe above exception was the direct cause of the following exception:\n",
            "\u001b[0;31mValueError\u001b[0m                                Traceback (most recent call last)",
            "\u001b[0;32m<ipython-input-98-3e6630a08c40>\u001b[0m in \u001b[0;36m<module>\u001b[0;34m\u001b[0m\n\u001b[1;32m     10\u001b[0m \u001b[0;34m\u001b[0m\u001b[0m\n\u001b[1;32m     11\u001b[0m \u001b[0;31m# \\log p(x) from the change of variabled formula\u001b[0m\u001b[0;34m\u001b[0m\u001b[0;34m\u001b[0m\u001b[0;34m\u001b[0m\u001b[0m\n\u001b[0;32m---> 12\u001b[0;31m print(\"log p(x) =\", multivariate_normal.logpdf(g_fwd_vec(x_pairs), \n\u001b[0m\u001b[1;32m     13\u001b[0m                                                \u001b[0mmean\u001b[0m\u001b[0;34m=\u001b[0m\u001b[0mnp\u001b[0m\u001b[0;34m.\u001b[0m\u001b[0mzeros\u001b[0m\u001b[0;34m(\u001b[0m\u001b[0;36m2\u001b[0m\u001b[0;34m)\u001b[0m\u001b[0;34m,\u001b[0m\u001b[0;34m\u001b[0m\u001b[0;34m\u001b[0m\u001b[0m\n\u001b[1;32m     14\u001b[0m                                                cov=np.eye(2)) + \n",
            "\u001b[0;31mValueError\u001b[0m: vmap in_axes specification must be a tree prefix of the corresponding value, got specification (0, None) for value tree PyTreeDef((*,))."
          ]
        }
      ]
    },
    {
      "cell_type": "code",
      "source": [],
      "metadata": {
        "id": "Pk1VUWNpKooz"
      },
      "execution_count": null,
      "outputs": []
    }
  ],
  "metadata": {
    "kernelspec": {
      "display_name": "venv",
      "language": "python",
      "name": "python3"
    },
    "language_info": {
      "codemirror_mode": {
        "name": "ipython",
        "version": 3
      },
      "file_extension": ".py",
      "mimetype": "text/x-python",
      "name": "python",
      "nbconvert_exporter": "python",
      "pygments_lexer": "ipython3",
      "version": "3.10.9"
    },
    "orig_nbformat": 4,
    "vscode": {
      "interpreter": {
        "hash": "e4a234a4a0a50314c29c5148f434542132827764842aa165d432936fa86ad9a1"
      }
    },
    "colab": {
      "provenance": []
    }
  },
  "nbformat": 4,
  "nbformat_minor": 0
}
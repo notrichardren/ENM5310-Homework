{
  "cells": [
    {
      "cell_type": "markdown",
      "metadata": {
        "id": "I-lFaD64Rn6a"
      },
      "source": [
        "# Problem 1\n"
      ]
    },
    {
      "cell_type": "markdown",
      "source": [
        "\n",
        "## Subproblem 1\n",
        "\n",
        "We find the following recursive formula, which cases on the next flip being a heads and tails and how this would change the probability of seeing an even number of heads: $q_n = p(1-q_{n-1}) + (1-p)(q_{n-1})$\n",
        "\n",
        "This simplifies to:\n",
        "$q_n = p - 2pq_{n-1} + q_{n-1} = p+q_{n-1}(1-2p)$\n",
        "\n",
        "We then find that we can expand this equation out to find a pattern.\n",
        "\n",
        "This is the same equation, written in terms of $q_{n-2}$.\n",
        "\n",
        "$q_n = p - 2p(p+q_{n-2}(1-2p)) + (p+q_{n-2}(1-2p)) = p + p(1-2p) + q_{n-2}(1-2p)^2$\n",
        "\n",
        "This is the same equation, written in terms of $q_{n-3}$.\n",
        "\n",
        "$q_n = p + p(1-2p) + p(1-2p)^2 + q_{n-3}(1-2p)^3$\n",
        "\n",
        "Inductively, we find that each $q_{n-k}$ term produces a $p(1-2)^k$ term.\n",
        "\n",
        "This is because of the pattern of recursion returning a $q_n = p+q_{n-1}(1-2p)$.\n",
        "\n",
        "This ultimately means that because $q_1 = 1-p$, we find that:\n",
        "\n",
        "$q_n=p+p(1-2p)+p(1-2p)^2+...+q_1(1-2p)^{n-1}$\n",
        "\n",
        "$q_n=\\frac{1}{2}+\\frac{\\left(1-2p\\right)^n}{2}$\n",
        "\n",
        "$q_n = \\frac{1 + (1-2p)^n}{2}$"
      ],
      "metadata": {
        "id": "T3KPt7V4TH29"
      }
    },
    {
      "cell_type": "markdown",
      "metadata": {
        "id": "-rl1r3zsRn6c"
      },
      "source": [
        "## Subproblem 2\n",
        "\n",
        "### Determine the constant C.\n",
        "\n",
        "$\\frac{1}{C}=\\int _x\\int _ye^{-\\left(ax+by\\right)}$\n",
        "\n",
        "$RHS = \\int _x\\int _ye^{-ax}e^{-by}=\\int _xe^{-ax}\\int _ye^{-by}$\n",
        "\n",
        "We then do u-substitution such that $u = -ax$ and $u = -by$ respectively.\n",
        "\n",
        "$RHS=\\left(\\frac{1}{-a}\\int _0^{\\infty }e^udu\\right)\\left(\\frac{1}{-b}\\int _0^{\\infty }e^udu\\right)=\\frac{1}{ab}$\n",
        "\n",
        "Thus giving us that:\n",
        "\n",
        "$\\frac{1}{C}=\\frac{1}{ab}$\n",
        "\n",
        "$C=ab$\n",
        "\n",
        "### Find the marginal density of X and Y. What can you infer?\n",
        "\n",
        "The marginal densities are as follows:\n",
        "\n",
        "Marginal density of x: $f_X\\left(x\\right)=\\int _yCe^{-ax}e^{-by}dy=Ce^{-ax}\\int _ye^{-by}dy=Ce^{-ax}\\int _0^{\\infty }e^{-by}=ae^{-ax}$\n",
        "\n",
        "Marginal density of y: $f_Y\\left(y\\right)=\\int _xCe^{-ax}e^{-by}dx=Ce^{-by}\\int _xe^{-ax}dx=Ce^{-by}\\int _0^{\\infty }e^{-ax}=be^{-by}$\n",
        "\n",
        "We can infer that x and y are independent: the marginal density of x only depends on a and x only, and the marginal density of y only depends on b and y only.\n",
        "\n",
        "### Find $\\mathbb{E}\\left(Y \\mid X>\\frac{\\exp \\left(a^2+b^2\\right)}{a^4+b^4}\\right)$\n",
        "\n",
        "Because X and Y are independent, the expected value of Y does not depend on X.\n",
        "\n",
        "$E\\left[Y\\right]=\\int _yyf_y\\left(y\\right)dy=\\int _0^{\\infty }ybe^{-by}dy = 0-\\left(-\\frac{1}{b}\\right)$\n",
        "\n",
        "Therefore, the expected value of Y is equivalent to $1/b$."
      ]
    },
    {
      "cell_type": "markdown",
      "metadata": {
        "id": "RxvFeCGiRn6c"
      },
      "source": [
        "# Problem 2\n",
        "\n",
        "The basic axioms of probability are as follows:\n",
        "1. $P(A) \\geq 0$, for all $A \\subset \\Omega$\n",
        "1. $P(\\Omega) = 1$\n",
        "1. If $A \\cap B = \\emptyset$ then $P(A\\cup B) = P(A) + P(B)$\n",
        "\n",
        "**Proposition 1**\n",
        "\n",
        "Show that for any event A, $\\mathbb{P}(A)=\\sum_{i=1}^n \\mathbb{P}\\left(A \\cap S_i\\right)$\n",
        "\n",
        "Let there be an event $A \\subset \\Omega$. If we break $\\Omega$ into disjoint $S_1, S_2, ... S_n$, we find that $P(\\Omega) = P(S_1 \\cup S_2 \\cup ... \\cup S_n) = P(S_1) + P(S_2) + ... + P(S_n)$ as per the third axiom of probability.\n",
        "\n",
        "Because A is a subset of $\\Omega$, and therefore, all of A should be contained with the disjoint subsets $S_i$, we then find that $P(A \\cap S_1) + P(A \\cap S_2) + ... + P(A \\cap S_n) = P(A \\cap \\Omega)$. We also know that $(A \\cap \\Omega) = P(A)$ because $P(\\Omega) = 1$ per the second axiom of probability.\n",
        "\n",
        "**Axiom 4**\n",
        "\n",
        "I also here prove an additional axiom 4, where $P(A \\cup B) = P(A) + P(B) - P(A \\cap B)$ where A and B are events. This will be used later on.\n",
        "\n",
        "We start with the definition of A union B, where $A \\cup B = A \\cup (A^c \\cap B)$. We find that $P(A \\cup B) = P(A) + P(A^c \\cap B)$ using the third axiom because the two events are disjoint. Let this be result 1.\n",
        "\n",
        "We also start with a second definition of B, where $B = (A \\cap B) \\cup (A^c \\cap B)$ using the first proposition because $A^c$ and $A$ partition the sample space $\\Omega$. Using the third axiom of probability, we know that $P(B) = P(A \\cap B) + P(A^c \\cap B)$ and can rearrange this such that $P(A^c \\cap B) = P(B) - P(A \\cap B)$. Let this be result 2.\n",
        "\n",
        "We take the two results and find that:\n",
        "\n",
        "Result 1: $P(A \\cup B) = P(A) + P(A^c \\cap B)$\n",
        "\n",
        "Result 2: $P(A^c \\cap B) = P(B) - P(A \\cap B)$\n",
        "\n",
        "Final equation: $P(A \\cup B) = P(A) + P(B) - P(A \\cap B)$\n",
        "\n",
        "**Proposition 2**\n",
        "\n",
        "Show that for events A, B, and C, $P(A) = \\mathbb{P}(A \\cap B)+\\mathbb{P}(A \\cap C)+\\mathbb{P}\\left(A \\cap B^c \\cap C^c\\right)-\\mathbb{P}(A \\cap B \\cap C)$.\n",
        "\n",
        "We start with the probability of A. We can partition the sample space $\\Omega$ into two disjoint subspaces: $B \\cup C$ and $(B \\cup C)^c = (B^c \\cap C^c)$.\n",
        "\n",
        "We can label $S_1 = B \\cup C$ and $S_2 = B^c \\cap C^c$. We then find that, using the proposition 1: \n",
        "\n",
        "$P(A) = P(A \\cap (B \\cup C)) + P(A \\cap (B^c \\cap C^c))$.\n",
        "\n",
        "Furthermore, $P(B \\cup C) = P(B) + P(C) - P(B \\cap C)$ per axiom 4. Therefore, we can then expand the $P(A \\cap (B \\cup C))$ term as follows: $P(A \\cap (B \\cup C)) = P(A \\cap B) + P(A \\cap C) - P(A \\cap B \\cap C)$.\n",
        "\n",
        "This gives us our final answer, where $P(A) = \\mathbb{P}(A \\cap B)+\\mathbb{P}(A \\cap C)+\\mathbb{P}\\left(A \\cap B^c \\cap C^c\\right)-\\mathbb{P}(A \\cap B \\cap C)$.\n",
        "\n",
        "**Proposition 3**\n",
        "\n",
        "We know that $P(A \\cap B) = P(A) + P(B) - P(A \\cap B)$ per axiom 4. We also know that $0 \\leq P(A \\cap B) \\leq 1$ per the first and second axiomx of probability.\n",
        "\n",
        "Therefore, we solve for the range of a possible $P(A \\cap B)$ being between $P(A \\cap B) = P(A) + P(B)$ or $P(A \\cap B) = P(A) + P(B) - 1$.\n",
        "\n",
        "Therefore, $P(A \\cap B) \\geq P(A) + P(B) - 1$ must be correct as it fits within this range.\n",
        "\n",
        "**Proposition 4**\n",
        "\n",
        "Using the proposition above, we can simply take $A_1 \\cap A_2$ and redefine it as a new variable $A_{12}$ to see that the same definition can apply over and over again - e.g. applying $A_{12} \\cap A_{3}$.\n",
        "\n",
        "Using this result, one is able to find that: \n",
        "\n",
        "$P(A \\cap B) = P(A) + P(B) - 1$\n",
        "\n",
        "$P(A \\cap B \\cap C) = P(A) + P(B) + P(C) - 2$\n",
        "\n",
        "$P(A \\cap B \\cap C \\cap D) = P(A) + P(B) + P(C) + P(D) - 3$\n",
        "\n",
        "$P(A_1 \\cap A_2 \\cap A_3 ... A_n) = P(A) + P(A_2) + P(A_3) + ... +P(A_n) - (n-1)$\n",
        "\n",
        "\n",
        "\n",
        "\n"
      ]
    },
    {
      "cell_type": "markdown",
      "source": [
        "# Problem 3"
      ],
      "metadata": {
        "id": "7om5ilugTKXg"
      }
    },
    {
      "cell_type": "markdown",
      "source": [
        "## Subproblem 1\n",
        "\n",
        "CDF of $X_i$ has pdf $p_x(x)$ and cdf $F_x(x)=\\int _{-\\infty }^xp\\left(x\\right)dx$\n",
        "\n",
        "We find the CDF of Y, $F_y(y)$, as follows:\n",
        "\n",
        "$F_y(y) = P(Y \\leq y)$. This is equal to the probability that at least one $X_i$ is smaller, equal to $1-P($all $X_i$ are larger$) = 1-P(\\bigcup _i\\left(x_i\\le y\\right))$.\n",
        "\n",
        "For any individual $x_i$, we find that $P(x_i > y) = 1-P(x_i \\leq y) = 1 - F_x(x)$\n",
        "\n",
        "Because $X_1 ... X_n$ are independent, we can multiply them.\n",
        "\n",
        "We thus find that $F_x(x) = 1-P(\\prod _i^{ }x_i\\le y) = 1-(1-F_x(x))^n$\n",
        "\n",
        "Because the pdf is a derivative of the CDF, we are able to find that:\n",
        "\n",
        "$p_x(x) =  \\frac{d}{dx}F_y(y) = \\frac{d}{dx} \\int _x1-\\left[1-F\\left(x\\right)\\right]^ndx$\n",
        "\n",
        "Using the chain rule, we're able to solve for $\\frac{dF\\left(y\\right)}{d\\left(x\\right)} = \\frac{dF\\left(y\\right)}{d\\left(1-F\\left(x\\right)\\right)}\\cdot \\frac{d\\left(1-F\\left(x\\right)\\right)}{dx}$\n",
        "\n",
        "The final result is therefore that: $p_x(x)=\\frac{d}{dx}F_y(y)=n\\left(1-\\left[1-F_x\\left(y\\right)\\right]\\right)^{n-1}p_x\\left(y\\right)$"
      ],
      "metadata": {
        "id": "ux45iP6dTMDM"
      }
    },
    {
      "cell_type": "markdown",
      "source": [
        "## Subproblem 2\n",
        "\n",
        "Y has pdf $p(y)$ while Z has pdf $p(z)$.\n",
        "\n",
        "X is equal to Y with a probability $p$, and equal to Z with a probability $1-p$.\n",
        "\n",
        "Therefore, we find that $p_x(x)=P(X=x)=p*p(Y=x) + (1-p)p(Z=x)$.\n",
        "\n",
        "Solving this out, we find that $p_x(x)=p*p_y(x) + (1-p)p_z(x)$.\n",
        "\n"
      ],
      "metadata": {
        "id": "eQ_IfAZ-TNak"
      }
    },
    {
      "cell_type": "markdown",
      "metadata": {
        "id": "oIdBy7xARn6c"
      },
      "source": [
        "# Problem 4\n",
        "\n",
        "## Gaussian distribution proof\n",
        "\n",
        "We aim to prove that $ax + b = N(a\\mu+b, a^2 * \\Sigma)$ \n",
        "\n",
        "We write normally distributed x as $x = N(\\mu, \\Sigma)$, a shorthand for:\n",
        "\n",
        "$x\\sim N\\left(\\mu ,\\Sigma \\right)=\\frac{1}{\\sqrt{\\left(2\\pi \\right)^n\\left|\\Sigma \\right|}}\\exp \\left[-\\frac{1}{2}\\left(x-\\mu \\right)^T\\Sigma ^{-1}\\left(x-\\mu \\right)\\right]$\n",
        "\n",
        "We write $y(x)=ax+b$ and derive that $x(y)=\\frac{y-b}{a}$.\n",
        "\n",
        "We also realize that the pdf of y $f_y(y) = f_x(x(y))\\left|\\frac{dx}{dy}\\right|=f_x\\left(\\frac{y-b}{a}\\right)\\left|\\frac{1}{a}\\right|$ via change of variables.\n",
        "\n",
        "We solve for the pdf of y by first solving for the term $f_x(x(y))$.\n",
        "\n",
        "$f_x(x(y))=\\frac{1}{\\sqrt{\\left(2\\pi \\right)^n\\left|\\Sigma \\right|}}\\exp \\left[-\\frac{1}{2}\\left(\\frac{y-b}{a}-\\mu \\right)^T\\Sigma ^{-1}\\left(\\frac{y-b}{a}-\\mu \\right)\\right]$\n",
        "\n",
        "$f_x(x(y))=\\frac{1}{\\sqrt{\\left(2\\pi \\right)^n\\left|\\Sigma \\right|}}\\exp \\left[-\\frac{1}{2}\\left(y-\\left(a\\mu +b\\right)\\right)^T\\left(\\Sigma a^2\\right)^{-1}\\left(y-\\left(a\\mu +b\\right)\\right)\\right]$\n",
        "\n",
        "Then, we solve for $f_y(y)=f_x\\left(\\frac{y-b}{a}\\right)\\left|\\frac{1}{a}\\right|=\\left(\\frac{1}{\\sqrt{\\left(2\\pi \\right)^n\\left|\\Sigma \\right|}}\\exp \\left[-\\frac{1}{2}\\left(y-\\left(a\\mu +b\\right)\\right)^T\\left(\\Sigma a^2\\right)^{-1}\\left(y-\\left(a\\mu +b\\right)\\right)\\right]\\right)*\\left|\\frac{1}{a}\\right|$\n",
        "\n",
        "$f_y(y)=\\frac{1}{\\sqrt{\\left(2\\pi \\right)^n\\left|\\Sigma a^2\\right|}}\\exp \\left[-\\frac{1}{2}\\left(y-\\left(a\\mu +b\\right)\\right)^T\\left(\\Sigma a^2\\right)^{-1}\\left(y-\\left(a\\mu +b\\right)\\right)\\right]$\n",
        "\n",
        "Therefore, $y\\sim N(a\\mu +b,\\Sigma a^2)$ \n",
        "\n",
        "## KL Divergence Calculation\n",
        "\n",
        "We know that:\n",
        "\n",
        "$p\\left(x\\right)\\sim N\\left(\\mu _1,\\Sigma _1\\right)$\n",
        "\n",
        "$q\\left(x\\right)\\sim N\\left(\\mu _2,\\Sigma _2\\right)$\n",
        "\n",
        "The following is the KL Divergence:\n",
        "\n",
        "$KL\\left(p\\right|\\left|q\\right)=\\int p\\left(x\\right)\\log \\left(\\frac{p\\left(x\\right)}{q\\left(x\\right)}\\right)dx$\n",
        "\n",
        "$KL\\left(p\\right|\\left|q\\right)=\\int p\\left(x\\right)\\log \\left(p\\left(x\\right)-q\\left(x\\right)\\right)dx$\n",
        "\n",
        "We know that for a Gaussian distribution y with $N\\left(\\mu ,\\Sigma \\right)$ we can solve for:\n",
        "\n",
        "$\\log \\left(y\\right)=\\log \\left(\\frac{1}{\\sqrt{\\left(2\\pi \\right)^n\\left|\\Sigma \\right|}}\\exp \\left[-\\frac{1}{2}\\left(x-\\mu \\right)^T\\Sigma ^{-1}\\left(x-\\mu \\right)\\right]\\right)$\n",
        "\n",
        "$\\log \\left(y\\right)=\\log \\left(\\frac{1}{\\sqrt{\\left(2\\pi \\right)^n\\left|\\Sigma \\right|}}\\right)+\\left(-\\frac{1}{2}\\left(x-\\mu \\right)^T\\Sigma ^{-1}\\left(x-\\mu \\right)\\right)$\n",
        "\n",
        "$\\log \\left(y\\right)=\\log \\left(1\\right)-\\frac{n}{2}\\log \\left(2\\pi \\right)-\\frac{1}{2}\\log \\left(\\left|\\Sigma \\right|\\right)+\\left(-\\frac{1}{2}\\left(x-\\mu \\right)^T\\Sigma ^{-1}\\left(x-\\mu \\right)\\right)$\n",
        "\n",
        "$\\log \\left(y\\right)=-\\frac{n}{2}\\log \\left(2\\pi \\right)-\\frac{1}{2}\\log \\left(\\left|\\Sigma \\right|\\right)+\\left(-\\frac{1}{2}\\left(x-\\mu \\right)^T\\Sigma ^{-1}\\left(x-\\mu \\right)\\right)$\n",
        "\n",
        "Therefore, we have our approximation by taking the integral over $(\\log p(x) - \\log q(x)) * p(x)$.\n",
        "\n",
        "$\\log \\left(p\\left(x\\right)-q\\left(x\\right)\\right)=\\left[-\\frac{1}{2}\\log \\left(\\left|\\Sigma _1\\right|\\right)+\\left(-\\frac{1}{2}\\left(x-\\mu _1\\right)^T\\Sigma _1^{-1}\\left(x-\\mu _1\\right)\\right)\\right]-\\left[-\\frac{1}{2}\\log \\left(\\left|\\Sigma _2\\right|\\right)+\\left(-\\frac{1}{2}\\left(x-\\mu _2\\right)^T\\Sigma _2^{-1}\\left(x-\\mu _2\\right)\\right)\\right]$\n",
        "\n",
        "$\\log \\left(p\\left(x\\right)-q\\left(x\\right)\\right)=\\left[\\frac{1}{2}\\log \\left(\\frac{\\left|\\Sigma _2\\right|}{\\left|\\Sigma _1\\right|}\\right)+\\left[\\left(-\\frac{1}{2}\\left(x-\\mu _1\\right)^T\\Sigma _1^{-1}\\left(x-\\mu _1\\right)\\right)-\\left(-\\frac{1}{2}\\left(x-\\mu _2\\right)^T\\Sigma _2^{-1}\\left(x-\\mu _2\\right)\\right)\\right]\\right]$\n",
        "\n",
        "$\\log \\left(p\\left(x\\right)-q\\left(x\\right)\\right)=\\frac{1}{2}\\log \\left(\\frac{\\left|\\Sigma _2\\right|}{\\left|\\Sigma _1\\right|}\\right)+\\frac{1}{2}\\left[\\left(x-\\mu _2\\right)^T\\Sigma _2^{-1}\\left(x-\\mu _2\\right)-\\left(x-\\mu _1\\right)^T\\Sigma _1^{-1}\\left(x-\\mu _1\\right)\\right]$\n",
        "\n",
        "Plugging this into the $(\\log p(x) - \\log q(x)) * p(x)$ to find the integral:\n",
        "\n",
        "$KL=\\int _x\\left(\\frac{1}{2}\\log \\left(\\frac{\\left|\\Sigma _2\\right|}{\\left|\\Sigma _1\\right|}\\right)+\\frac{1}{2}\\left[\\left(x-\\mu _2\\right)^T\\Sigma _2^{-1}\\left(x-\\mu _2\\right)-\\left(x-\\mu _1\\right)^T\\Sigma _1^{-1}\\left(x-\\mu _1\\right)\\right]\\right)\\cdot p\\left(x\\right)dx$\n",
        "\n",
        "At this point, we must regard the scalar as the trace of matrix, making calculations easier, and use the expected value definition to obtain:\n",
        "\n",
        "$KL=\\left(\\frac{1}{2}\\log \\left(\\frac{\\left|\\Sigma _2\\right|}{\\left|\\Sigma _1\\right|}\\right)+\\frac{1}{2}E\\left[trace\\left(\\Sigma _2^{-1}\\left(x-\\mu _2\\right)^T\\left(x-\\mu _2\\right)\\right)-trace\\left(\\Sigma _1^{-1}\\left(x-\\mu _1\\right)^T\\left(x-\\mu _1\\right)\\right)\\right]\\right)\\cdot p\\left(x\\right)dx$\n",
        "\n",
        "And obtain our final answer:\n",
        "\n",
        "$KL=\\frac{1}{2}\\left[\\log \\frac{\\left|\\Sigma _2\\right|}{\\left|\\Sigma _1\\right|}+\\left(\\mu _2-\\mu _1\\right)^T\\cdot \\Sigma _2^{-1}\\cdot \\left(\\mu _2-\\mu _1\\right)+trace\\left(\\Sigma _2^{-1}\\Sigma _1\\right)-n\\right]$"
      ]
    },
    {
      "cell_type": "markdown",
      "metadata": {
        "id": "xW8y3fF7Rn6c"
      },
      "source": [
        "# Problem 5"
      ]
    },
    {
      "cell_type": "code",
      "execution_count": 193,
      "metadata": {
        "id": "qLdaiZeiRn6c"
      },
      "outputs": [],
      "source": [
        "import jax.numpy as np\n",
        "from jax import grad, jacfwd, jit, random, vmap\n",
        "from jax.scipy.stats import multivariate_normal\n",
        "from jax.tree_util import tree_map\n",
        "\n",
        "from IPython.display import clear_output\n",
        "import matplotlib.pyplot as plt"
      ]
    },
    {
      "cell_type": "code",
      "source": [
        "def g_fwd(x : np.array, params : np.array): # input size: (2,). output size: (2,)\n",
        "  z1 = params[0]*(x[0]**3) + params[1]*(x[0]**2) + params[2]*(x[0]) + params[3]\n",
        "  z2 = params[4]*x[1] + params[5]\n",
        "  return np.row_stack((z1, z2)).reshape(2,)\n",
        "\n",
        "def g_inv(z : np.array): # input size: (2,). output size: (2,)\n",
        "  x1 = np.cbrt(z[0]) + 2\n",
        "  x2 = z[1] - 1\n",
        "  return np.row_stack((x1, x2)).reshape(2,)\n",
        "\n",
        "# Vectorizing the functions\n",
        "g_inv_vec = vmap(g_inv, in_axes = (0))\n",
        "g_fwd_vec = vmap(g_fwd, in_axes = (0, None))"
      ],
      "metadata": {
        "id": "d5qAo95dJ5rW"
      },
      "execution_count": 194,
      "outputs": []
    },
    {
      "cell_type": "code",
      "execution_count": 195,
      "metadata": {
        "id": "waU7sIjxRn6d",
        "colab": {
          "base_uri": "https://localhost:8080/"
        },
        "outputId": "233b6a83-c3ff-4b59-a117-6c32d08e6f29"
      },
      "outputs": [
        {
          "output_type": "stream",
          "name": "stdout",
          "text": [
            "(2,)\n",
            "(2,)\n",
            "(2,)\n",
            "[-0.11617039  2.2125063 ]\n",
            "[-0.11617088  2.2125063 ]\n"
          ]
        }
      ],
      "source": [
        "# Sanity Check #1: Does it work with an input of (2,)\n",
        "\n",
        "key = random.PRNGKey(1)\n",
        "z_pairs = random.normal(key, shape = (2,))\n",
        "\n",
        "print(z_pairs.shape)\n",
        "x_pairs = g_inv(z_pairs)\n",
        "print(x_pairs.shape)\n",
        "\n",
        "params = np.array([1, -6, 12, -8, 1, 1])\n",
        "z_reconstructed = g_fwd(x_pairs, params)\n",
        "print(z_reconstructed.shape)\n",
        "\n",
        "print(z_pairs)\n",
        "print(z_reconstructed)"
      ]
    },
    {
      "cell_type": "code",
      "source": [
        "# Sanity Check #2: Does the batching work with an input of (5000, 2)\n",
        "\n",
        "key = random.PRNGKey(1)\n",
        "z_pairs = random.normal(key, shape = (5000,2))\n",
        "\n",
        "print(z_pairs.shape)\n",
        "x_pairs = g_inv_vec(z_pairs)\n",
        "print(x_pairs.shape)\n",
        "\n",
        "params = [1, -6, 12, -8, 1, 1]\n",
        "z_reconstructed = g_fwd_vec(x_pairs, params)\n",
        "print(z_reconstructed.shape)\n",
        "\n",
        "print(z_pairs)\n",
        "print(z_reconstructed)"
      ],
      "metadata": {
        "colab": {
          "base_uri": "https://localhost:8080/"
        },
        "id": "0ykaLo5SVnCh",
        "outputId": "71850a7b-476f-454d-d276-81d8b4187038"
      },
      "execution_count": 196,
      "outputs": [
        {
          "output_type": "stream",
          "name": "stdout",
          "text": [
            "(5000, 2)\n",
            "(5000, 2)\n",
            "(5000, 2)\n",
            "[[ 0.40954202 -1.3310618 ]\n",
            " [-1.8526287  -1.5790561 ]\n",
            " [-1.3795527   1.534724  ]\n",
            " ...\n",
            " [ 0.10090402  0.5340228 ]\n",
            " [ 0.32329157 -2.323881  ]\n",
            " [ 0.74528337 -0.87408835]]\n",
            "[[ 0.409544   -1.3310618 ]\n",
            " [-1.8526282  -1.5790563 ]\n",
            " [-1.3795533   1.534724  ]\n",
            " ...\n",
            " [ 0.10090446  0.5340228 ]\n",
            " [ 0.32329178 -2.323881  ]\n",
            " [ 0.7452812  -0.8740883 ]]\n"
          ]
        }
      ]
    },
    {
      "cell_type": "code",
      "source": [
        "# Plotting for sanity check!\n",
        "\n",
        "fig, (ax1, ax2) = plt.subplots(1, 2, figsize=(10, 5))\n",
        "\n",
        "ax1.hist2d(z_pairs[:,0], z_pairs[:,1], bins=100, range=[(-5,5), (-5,5)], density=True)\n",
        "ax1.set_xlim(-5, 5)\n",
        "ax1.set_ylim(-5, 5)\n",
        "ax1.set_title('(z1, z2) ~ N(0, I)')\n",
        "\n",
        "ax2.hist2d(x_pairs[:,0], x_pairs[:,1], bins=100, range=[(-5,5), (-5,5)], density=True)\n",
        "ax2.set_xlim(-5, 5)\n",
        "ax2.set_ylim(-5, 5)\n",
        "ax2.set_title('(x1, x2) = g^{-1}(z1, z2)')\n",
        "\n",
        "plt.show()"
      ],
      "metadata": {
        "colab": {
          "base_uri": "https://localhost:8080/",
          "height": 336
        },
        "id": "U9Rh2CS9FLXn",
        "outputId": "0b8f5ea7-72a3-4c83-be11-66c51a2ce265"
      },
      "execution_count": 197,
      "outputs": [
        {
          "output_type": "display_data",
          "data": {
            "text/plain": [
              "<Figure size 720x360 with 2 Axes>"
            ],
            "image/png": "[encoded data removed]"
          },
          "metadata": {
            "needs_background": "light"
          }
        }
      ]
    },
    {
      "cell_type": "markdown",
      "source": [
        "We use the following equation to calculate the log-likelihood of (x1, x2) observations:\n",
        "\n",
        "$\\log p(\\mathbf{x})=\\log p(g(\\mathbf{x}))+\\log \\left|\\operatorname{det} J_{g(\\mathbf{x})}\\right|$"
      ],
      "metadata": {
        "id": "4oSjcTzNHPgd"
      }
    },
    {
      "cell_type": "code",
      "source": [
        "# Calculate log-likelihood of (x1, x2) observations\n",
        "mu_z = np.zeros(2)\n",
        "cov_z = np.eye(2)\n",
        "\n",
        "# Required function definitions\n",
        "J = jacfwd(g_fwd)\n",
        "J_vec = vmap(J, (0, None), 0)\n",
        "det_vec = vmap(np.linalg.det)\n",
        "\n",
        "# log p(x) from the change of variabled formula\n",
        "print(\"log p(x) =\", multivariate_normal.logpdf(g_fwd_vec(x_pairs, params), \n",
        "                                               mean=np.zeros(2), \n",
        "                                               cov=np.eye(2)) + \n",
        "                    np.log(np.abs(det_vec(J_vec(x_pairs, params)))))"
      ],
      "metadata": {
        "colab": {
          "base_uri": "https://localhost:8080/"
        },
        "id": "2zIVC601E64D",
        "outputId": "100f0c45-56c1-4255-e9e2-2bdf0087ef38"
      },
      "execution_count": 198,
      "outputs": [
        {
          "output_type": "stream",
          "name": "stdout",
          "text": [
            "log p(x) = [-2.3041358 -3.2910194 -2.6540308 ... -2.4160042 -4.2445364 -1.5949955]\n"
          ]
        }
      ]
    },
    {
      "cell_type": "code",
      "source": [
        "# Define loss\n",
        "@jit\n",
        "def loss(params, batch):\n",
        "    return -np.mean(multivariate_normal.logpdf(g_fwd_vec(batch, params), \n",
        "                                               mean=np.zeros(2), \n",
        "                                               cov=np.eye(2)) + \n",
        "                    np.log(np.abs(det_vec(J_vec(batch, params)))))\n",
        "\n",
        "# Define gradient of loss\n",
        "grad_loss = grad(loss)"
      ],
      "metadata": {
        "id": "Pk1VUWNpKooz"
      },
      "execution_count": 199,
      "outputs": []
    },
    {
      "cell_type": "code",
      "source": [
        "x_pairs.shape"
      ],
      "metadata": {
        "colab": {
          "base_uri": "https://localhost:8080/"
        },
        "id": "nj-Coa6i_kcd",
        "outputId": "476c824b-8b16-49d1-eb70-35218311af84"
      },
      "execution_count": 200,
      "outputs": [
        {
          "output_type": "execute_result",
          "data": {
            "text/plain": [
              "(5000, 2)"
            ]
          },
          "metadata": {},
          "execution_count": 200
        }
      ]
    },
    {
      "cell_type": "code",
      "source": [
        "# Initial guess for the unkown parameters\n",
        "params = np.array([1, -5.96, 11.9, -8.1, 1.1, 0.95])\n",
        "batch = x_pairs\n",
        "\n",
        "# Define a learning rate parameter\n",
        "lr = 0.002\n",
        "\n",
        "# Define the gradient descent step\n",
        "def step(params, batch):\n",
        "    grads = grad_loss(params, batch)\n",
        "    params = tree_map(lambda x, g: x - lr*g, params, grads)\n",
        "    return params\n",
        "\n",
        "for i in range(2000):\n",
        "    params = step(params, batch)\n",
        "    \n",
        "    # Show progress\n",
        "    if i % 10 == 0:\n",
        "        clear_output(wait=True)\n",
        "        plt.figure(figsize=(4, 4))\n",
        "        plt.title(\"iteration = {}, loss = {}\".format(i, loss(params, batch)))\n",
        "        \n",
        "        plt.hist2d(batch[:, 0], batch[:, 1], bins=50, range=[(-5,5), (-5,5)], density=True)\n",
        "        plt.xlim(-5, 5)\n",
        "        plt.ylim(-5, 5)\n",
        "\n",
        "        x = np.arange(-5.0, 5.0, 0.05)\n",
        "        y = np.arange(-5.0, 5.0, 0.05)\n",
        "        X, Y = np.meshgrid(x, y)\n",
        "        shape = X.shape\n",
        "        grid = np.hstack([X.reshape(-1, 1), Y.reshape(-1, 1)])\n",
        "        Z = np.exp(multivariate_normal.logpdf(g_fwd_vec(grid, params), \n",
        "                                              mean=np.zeros(2), \n",
        "                                              cov=np.eye(2)) + np.log(np.abs(det_vec(J_vec(grid, params)))))\n",
        "        Z = Z.reshape(shape)\n",
        "        CS = plt.contour(X, Y, Z, levels=10, lw=2)\n",
        "\n",
        "        plt.show()\n",
        "        print(params)"
      ],
      "metadata": {
        "colab": {
          "base_uri": "https://localhost:8080/",
          "height": 298
        },
        "id": "csrUCLbb8knF",
        "outputId": "5decd02d-50a7-451a-e553-997cf4878d10"
      },
      "execution_count": 219,
      "outputs": [
        {
          "output_type": "display_data",
          "data": {
            "text/plain": [
              "<Figure size 288x288 with 1 Axes>"
            ],
            "image/png": "[encoded data removed]"
          },
          "metadata": {
            "needs_background": "light"
          }
        },
        {
          "output_type": "stream",
          "name": "stdout",
          "text": [
            "[ 0.9907498  -5.964101   11.97014    -8.00127     0.99341226  0.9931726 ]\n"
          ]
        }
      ]
    }
  ],
  "metadata": {
    "kernelspec": {
      "display_name": "venv",
      "language": "python",
      "name": "python3"
    },
    "language_info": {
      "codemirror_mode": {
        "name": "ipython",
        "version": 3
      },
      "file_extension": ".py",
      "mimetype": "text/x-python",
      "name": "python",
      "nbconvert_exporter": "python",
      "pygments_lexer": "ipython3",
      "version": "3.10.9"
    },
    "orig_nbformat": 4,
    "vscode": {
      "interpreter": {
        "hash": "e4a234a4a0a50314c29c5148f434542132827764842aa165d432936fa86ad9a1"
      }
    },
    "colab": {
      "provenance": [],
      "toc_visible": true
    }
  },
  "nbformat": 4,
  "nbformat_minor": 0
}
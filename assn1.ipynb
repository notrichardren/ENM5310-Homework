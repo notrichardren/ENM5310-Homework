{
 "cells": [
  {
   "cell_type": "markdown",
   "metadata": {},
   "source": [
    "# Assignment 1"
   ]
  },
  {
   "cell_type": "markdown",
   "metadata": {},
   "source": [
    "## Problem 1 [20 Points]\n",
    "\n",
    "### Subproblem 1 [10 Points]\n",
    "\n",
    "Consider a coin that comes up heads with probability $p$ and tails with probability $1-p$. Let $q_n$ be the probability of obtaining even number of heads in $n$ independent tosses. Derive a recursion that relates $q_n$ to $q_{n-1}$ and establish the formula\n",
    "$$q_n = \\frac{1+(1-2p)^n}{2}$$\n",
    "\n",
    "\n",
    "### Subproblem 2 [10 Points]\n",
    "\n",
    "Let $X$ and $Y$ have joint PDF \n",
    "$$\n",
    "f_{X,Y}(x,y) = \\begin{cases}\n",
    "C e^{-(ax+by)} & x,y \\geq 0\\\\\n",
    "0 & \\text{otherwise}\n",
    "\\end{cases},\n",
    "$$\n",
    "\n",
    "where, $a, b > 0$ are constants\n",
    "\n",
    "- Determine the constant $C$\n",
    "- Find the marginal density of $X$ and $Y$. What can you infer from them?\n",
    "- Find $\\mathbb{E}(Y \\mid X> \\frac{\\exp(a^2 + b^2)}{a^4 + b^4})$\n"
   ]
  },
  {
   "cell_type": "markdown",
   "metadata": {},
   "source": [
    "## Answer:"
   ]
  },
  {
   "cell_type": "markdown",
   "metadata": {},
   "source": [
    "## Problem 2 [20 points]\n",
    "\n",
    "Let $S_1,S_2,\\ldots,S_n$ be a partition of the sample space $\\Omega$.\n",
    "- Show that for any event $A$,\n",
    "  $$\\mathbb{P}(A) = \\sum_{i=1}^n \\mathbb{P}\\left({A \\cap S_i}\\right)$$\n",
    "- Use the previous part to show that, for events $A$, $B$ and $C$,\n",
    "  $$\\mathbb{P}\\left({A}\\right) = \\mathbb{P}\\left({A \\cap B}\\right) + \\mathbb{P}\\left({A \\cap C}\\right) + \\mathbb{P}\\left({A \\cap B^c \\cap C^c}\\right) - \\mathbb{P}\\left({A \\cap B \\cap C}\\right)$$\n",
    "- Prove that for any two events $A$ and $B$, we have\n",
    "$$\\mathbb{P} (A \\cap B) \\geq \\mathbb{P}(A) + \\mathbb{P}(B) - 1$$\n",
    "- Using the above, establish the following generalization:\n",
    "$$\\mathbb{P}(A_1 \\cap A_2 \\cap \\cdots \\cap A_n) \\geq \\mathbb{P}(A_1) + \\mathbb{P}(A_2) + \\cdots + \\mathbb{P}(A_n) - (n-1)$$\n",
    "\n",
    "**[You will need to argue logically using only the axioms. Drawing a diagram is not enough.]**"
   ]
  },
  {
   "cell_type": "markdown",
   "metadata": {},
   "source": [
    "## Answer:"
   ]
  },
  {
   "cell_type": "markdown",
   "metadata": {},
   "source": [
    "## Problem 3 [20 Points]\n",
    "\n",
    "### Subproblem 1 [10 Points]\n",
    "\n",
    "- If $X_1,X_2,\\ldots,X_n$ are independent random variables having the same probability density function $f_X(x)$, what is the probability density function for the random variable $Y=\\text{min}\\{X_1,X_2,\\ldots,X_n\\}$?\n",
    "- Consider two continuous random variables $Y$ and $Z$ and a random variable $X$ that is equal to $Y$ with a probability $p$ and equals $Z$ with a probability $1-p$. Obtain the pdf of $X$ interms of the pdf's of $Y$ and $Z$.\n",
    "\n",
    "### Subproblem 2 [10 Points]\n",
    "\n",
    "The Laplace distribution is given by\n",
    "$$p(x | \\mu, b) = \\frac{1}{2 b} \\exp \\left(-\\frac{|x - \\mu|}{b}\\right)$$\n",
    "\n",
    "Consider a mixture of three Laplace distributions:\n",
    "$p(x) = \\alpha p_1(x) + \\beta p_2(x) + \\gamma p_3(x)$\n",
    "\n",
    "where $\\alpha, \\beta, \\gamma \\in [0,1]$ are mixture weights satisfying $\\alpha + \\beta + \\gamma = 1$ and $p_1(x)$, $p_2(x)$ and $p_3(x)$ are Laplace distributions with different parameters $(\\mu_1, b_1) \\neq (\\mu_2, b_2) \\neq (\\mu_3, b_3)$.\n",
    "\n",
    "Derive the expectation and variance of $p(x)$, analytically, using their definitions."
   ]
  },
  {
   "cell_type": "markdown",
   "metadata": {},
   "source": [
    "## Answer:"
   ]
  },
  {
   "cell_type": "markdown",
   "metadata": {},
   "source": [
    "## Problem 4 [20 Points]\n",
    "\n",
    "As mentioned in class the Gaussian has nice properties which makes it a fundamental tool in statistical infererence. The standard normal $\\mathcal{N}(\\mathbf{x}; \\mathbf{\\mu}, \\mathbf{\\Sigma})$ is defined as\n",
    "\n",
    "$$\n",
    "    \\mathcal{N}(\\mathbf{x}; \\mathbf{\\mu}, \\mathbf{\\Sigma}) = \\frac{1}{\\sqrt{(2 \\pi)^n |\\mathbf{\\Sigma}|}} \\exp \\left[ -\\frac{1}{2} (\\mathbf{x} - \\mathbf{\\mu})^\\top \\Sigma^{-1} (\\mathbf{x} - \\mathbf{\\mu}) \\right]\n",
    "$$\n",
    "\n",
    "- Prove that if $x \\in \\mathbb{R}^d$ is normally distributed, every affine transformation $y = A x + b$ also has a Gaussian distribution. Find its mean and covariance.\n",
    "- Analytically find the KL divergence $\\mathbb{KL}(P || Q)$ between two multivariate normal distributions $p(x) \\sim \\mathcal{N}(\\mathbf{x}; \\mathbf{\\mu}_1, \\mathbf{\\Sigma}_1)$ and $q(x) \\sim \\mathcal{N}(\\mathbf{x}; \\mathbf{\\mu}_2, \\mathbf{\\Sigma}_2)$."
   ]
  },
  {
   "cell_type": "markdown",
   "metadata": {},
   "source": [
    "## Answer:"
   ]
  },
  {
   "cell_type": "markdown",
   "metadata": {},
   "source": [
    "## Problem 5 [20 Points]\n",
    "\n",
    "Consider a two-dimensional random variable $z=(z_1,z_2)$ distributed as\n",
    "\n",
    "$$\n",
    "p(z_1,z_2) = \\mathcal{N}\\left(\\left[\\begin{matrix} 0 \\\\ 0 \\end{matrix}\\right],\n",
    "\\left[\\begin{matrix} 1 & 0 \\\\ 0 & 1 \\end{matrix}\\right]\\right).\n",
    "$$\n",
    "\n",
    "\n",
    "Also consider a transformation $z_1 = g_1(x_1) = x_1^3 - 6x_1^2 + 12x_1 - 8$ whose inverse mapping is $x_1 = g_1^{-1}(z_1) = z_1^{1/3} + 2$, and $z_2 = g_2(x_2) = x_2 + 1$ whose inverse mapping is $x_2 = g_2^{-1}(z_2) = z_2 - 1$. Generate $5000$ realizations for $(z_1, z_2)$ from $p(z_1,z_2)$ and compute the corresponding $(x_1, x_2)$ pairs according to the given transformation. Then, maximize the log-likelihood of the $(x_1, x_2)$ observations to estimate the parameters of the forward mapping that transforms $p(z)$ into $p(x)$ (consider a polynomial basis). Report the learned parameters, log-likelihood loss and a visualization of $p(x)$ at every step of your gradient ascent algorithm.\n"
   ]
  },
  {
   "cell_type": "code",
   "execution_count": null,
   "metadata": {},
   "outputs": [],
   "source": [
    "# your code here"
   ]
  }
 ],
 "metadata": {
  "kernelspec": {
   "display_name": "Python 3",
   "language": "python",
   "name": "python3"
  },
  "language_info": {
   "codemirror_mode": {
    "name": "ipython",
    "version": 3
   },
   "file_extension": ".py",
   "mimetype": "text/x-python",
   "name": "python",
   "nbconvert_exporter": "python",
   "pygments_lexer": "ipython3",
   "version": "3.8.5"
  }
 },
 "nbformat": 4,
 "nbformat_minor": 4
}
